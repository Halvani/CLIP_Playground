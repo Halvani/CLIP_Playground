{
 "cells": [
  {
   "cell_type": "markdown",
   "metadata": {},
   "source": [
    "### Necessary imports"
   ]
  },
  {
   "cell_type": "code",
   "execution_count": null,
   "metadata": {},
   "outputs": [],
   "source": [
    "import PIL\n",
    "import clip\n",
    "import torch\n",
    "import shutil\n",
    "from glob import glob\n",
    "from pathlib import Path\n",
    "from tqdm.auto import tqdm"
   ]
  },
  {
   "cell_type": "markdown",
   "metadata": {},
   "source": [
    "### Enable GPU support"
   ]
  },
  {
   "cell_type": "code",
   "execution_count": null,
   "metadata": {},
   "outputs": [],
   "source": [
    "device = \"cuda\" if torch.cuda.is_available() else \"cpu\""
   ]
  },
  {
   "cell_type": "markdown",
   "metadata": {},
   "source": [
    "### Select and load the vision transformer model"
   ]
  },
  {
   "cell_type": "code",
   "execution_count": null,
   "metadata": {},
   "outputs": [],
   "source": [
    "model_name = 'ViT-L/14'\n",
    "# model_name = 'ViT-B/32'  # Need more models? Have a look at: https://huggingface.co/openai\n",
    "\n",
    "model, preprocess = clip.load(model_name, device)"
   ]
  },
  {
   "cell_type": "markdown",
   "metadata": {},
   "source": [
    "### Categorizing function"
   ]
  },
  {
   "cell_type": "code",
   "execution_count": null,
   "metadata": {},
   "outputs": [],
   "source": [
    "def categorize_images(labels, src_dir, img_extension='*.*', dest_folder=None, pred_threshold=60, verbose=False):\n",
    "    # Load images\n",
    "    filepaths = glob(f'{src_dir}\\\\{img_extension}')\n",
    "    images = [(f, PIL.Image.open(f)) for f in filepaths]    \n",
    "        \n",
    "    # Create folders (that represent the predicted classes) if they're not already exist.\n",
    "    dest_path = src_dir if dest_folder is None else dest_folder\n",
    "    for label in labels:\n",
    "        Path(f'{dest_path}\\\\{label}').mkdir(parents=True, exist_ok=True)  \n",
    "    \n",
    "    # Process and classify each image according to the given threshold\n",
    "    for f, image in tqdm(images):\n",
    "        image_input = preprocess(image).unsqueeze(0).to(device)\n",
    "        text_inputs = torch.cat([clip.tokenize(f\"a photo of a {label}\") for label in labels]).to(device)\n",
    "\n",
    "        # Generate features\n",
    "        with torch.no_grad():\n",
    "            image_features = model.encode_image(image_input)\n",
    "            text_features = model.encode_text(text_inputs)\n",
    "\n",
    "        # Pick the top-k most similar labels for the image\n",
    "        image_features /= image_features.norm(dim=-1, keepdim=True)\n",
    "        text_features /= text_features.norm(dim=-1, keepdim=True)\n",
    "        similarity = (100.0 * image_features @ text_features.T).softmax(dim=-1)\n",
    "        values, indices = similarity[0].topk(len(labels))\n",
    "\n",
    "        for value, index in zip(values, indices):\n",
    "            pred_label = labels[index]\n",
    "            prob = f'{100 * value.item():.2f}'\n",
    "            \n",
    "            if verbose:\n",
    "                print(f\"{labels[index]}: {100 * value.item():.2f}%\")\n",
    "\n",
    "            if float(prob) > pred_threshold:\n",
    "                destination = f'{dest_path}\\\\{pred_label}\\\\{Path(f).name}' \n",
    "                shutil.copy(f, destination) \n",
    "    if verbose:\n",
    "        print(f'\\n{\"-\"*20}\\nDone.')     "
   ]
  },
  {
   "cell_type": "markdown",
   "metadata": {},
   "source": [
    "### Demo"
   ]
  },
  {
   "cell_type": "code",
   "execution_count": null,
   "metadata": {},
   "outputs": [],
   "source": [
    "labels = ['cat', 'frog']\n",
    "\n",
    "src_dir = r'PATH_TO_YOUR_UNCATEGORIZED_IMAGES'\n",
    "dest_dir = f'{src_dir}\\\\categorized'\n",
    "categorize_images(labels=labels, src_dir=src_dir, dest_folder=dest_dir)"
   ]
  }
 ],
 "metadata": {
  "kernelspec": {
   "display_name": "Python 3 (ipykernel)",
   "language": "python",
   "name": "python3"
  },
  "language_info": {
   "codemirror_mode": {
    "name": "ipython",
    "version": 3
   },
   "file_extension": ".py",
   "mimetype": "text/x-python",
   "name": "python",
   "nbconvert_exporter": "python",
   "pygments_lexer": "ipython3",
   "version": "3.9.13"
  },
  "varInspector": {
   "cols": {
    "lenName": 16,
    "lenType": 16,
    "lenVar": 40
   },
   "kernels_config": {
    "python": {
     "delete_cmd_postfix": "",
     "delete_cmd_prefix": "del ",
     "library": "var_list.py",
     "varRefreshCmd": "print(var_dic_list())"
    },
    "r": {
     "delete_cmd_postfix": ") ",
     "delete_cmd_prefix": "rm(",
     "library": "var_list.r",
     "varRefreshCmd": "cat(var_dic_list()) "
    }
   },
   "types_to_exclude": [
    "module",
    "function",
    "builtin_function_or_method",
    "instance",
    "_Feature"
   ],
   "window_display": false
  }
 },
 "nbformat": 4,
 "nbformat_minor": 2
}
