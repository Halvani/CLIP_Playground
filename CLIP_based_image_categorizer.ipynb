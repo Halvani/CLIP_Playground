{
 "cells": [
  {
   "cell_type": "markdown",
   "metadata": {},
   "source": [
    "### Necessary imports"
   ]
  },
  {
   "cell_type": "code",
   "execution_count": null,
   "metadata": {},
   "outputs": [],
   "source": [
    "import os\n",
    "import PIL\n",
    "import clip\n",
    "import torch\n",
    "import shutil\n",
    "import requests\n",
    "from glob import glob\n",
    "from pathlib import Path\n",
    "from tqdm.auto import tqdm\n",
    "from urllib.parse import urlparse, unquote"
   ]
  },
  {
   "cell_type": "markdown",
   "metadata": {},
   "source": [
    "### Enable GPU support"
   ]
  },
  {
   "cell_type": "code",
   "execution_count": null,
   "metadata": {},
   "outputs": [],
   "source": [
    "device = \"cuda\" if torch.cuda.is_available() else \"cpu\""
   ]
  },
  {
   "cell_type": "markdown",
   "metadata": {},
   "source": [
    "### Select and load the vision transformer model"
   ]
  },
  {
   "cell_type": "code",
   "execution_count": null,
   "metadata": {},
   "outputs": [],
   "source": [
    "model_name = 'ViT-L/14'\n",
    "# model_name = 'ViT-B/32'  # Need more models? Have a look at: https://huggingface.co/openai\n",
    "\n",
    "model, preprocess = clip.load(model_name, device)"
   ]
  },
  {
   "cell_type": "markdown",
   "metadata": {},
   "source": [
    "### Categorizing function"
   ]
  },
  {
   "cell_type": "code",
   "execution_count": null,
   "metadata": {},
   "outputs": [],
   "source": [
    "def categorize_images(labels, src_dir, img_extension='*.*', dest_folder=None, pred_threshold=0.6, verbose=False):\n",
    "    # Load images   \n",
    "    filepaths = Path(src_dir).glob(img_extension)\n",
    "    images = [(f, PIL.Image.open(f)) for f in filepaths]    \n",
    "        \n",
    "    # Create folders (= predicted classes) if they're not already exist.\n",
    "    dest_path = src_dir if dest_folder is None else dest_folder\n",
    "    \n",
    "    input_tokens = []\n",
    "    for label in labels:        \n",
    "        Path(dest_path, label).mkdir(parents=True, exist_ok=True)     \n",
    "        input_tokens.append(clip.tokenize(f'a photo of a {label}'))\n",
    "        \n",
    "    text_inputs = torch.cat(input_tokens).to(device)    \n",
    "    \n",
    "    # Generate text features\n",
    "    with torch.no_grad():\n",
    "        text_features = model.encode_text(text_inputs)\n",
    "        text_features /= text_features.norm(dim=-1, keepdim=True)   \n",
    "        \n",
    "    # Process and classify each image according to the given threshold\n",
    "    for f, image in tqdm(images):\n",
    "        image_input = preprocess(image).unsqueeze(0).to(device)\n",
    "\n",
    "        # Generate image features\n",
    "        with torch.no_grad():\n",
    "            image_features = model.encode_image(image_input)\n",
    "            image_features /= image_features.norm(dim=-1, keepdim=True)\n",
    "        \n",
    "        # Pick top-k most similar labels for the image\n",
    "        similarity = (100 * image_features @ text_features.T).softmax(dim=-1)\n",
    "        values, indices = similarity[0].topk(len(labels))\n",
    "\n",
    "        for value, index in zip(values, indices):\n",
    "            pred_label = labels[index]\n",
    "            prob = value.item()\n",
    "            \n",
    "            if verbose:\n",
    "                adjusted_prob = 1 - prob if prob < 0.5 else prob\n",
    "                print(f'Predicted as [{labels[index]}] Confidence: {100 * adjusted_prob:.2f}%')\n",
    "\n",
    "            if float(prob) > pred_threshold:\n",
    "                destination = Path(dest_path, pred_label, Path(f).name)  \n",
    "                shutil.copy(f, destination) \n",
    "    if verbose:\n",
    "        print(f'{\"-\"*40}\\nDone.')     "
   ]
  },
  {
   "cell_type": "markdown",
   "metadata": {},
   "source": [
    "# Demo"
   ]
  },
  {
   "cell_type": "markdown",
   "metadata": {},
   "source": [
    "### Define a source for uncategorized images (e.g., Wikipedia)"
   ]
  },
  {
   "cell_type": "code",
   "execution_count": null,
   "metadata": {},
   "outputs": [],
   "source": [
    "cat_urls = ['https://upload.wikimedia.org/wikipedia/commons/7/76/TapetumLucidum.JPG',\n",
    "            'https://upload.wikimedia.org/wikipedia/commons/1/12/Tabby_cat_with_visible_nictitating_membrane.jpg',\n",
    "            'https://upload.wikimedia.org/wikipedia/commons/4/4f/Felis_silvestris_catus_lying_on_rice_straw.jpg',\n",
    "            'https://upload.wikimedia.org/wikipedia/commons/b/bb/Kittyply_edit1.jpg',\n",
    "            'https://upload.wikimedia.org/wikipedia/commons/3/3b/Gato_enervado_pola_presencia_dun_can.jpg',\n",
    "            'https://upload.wikimedia.org/wikipedia/commons/b/b6/Felis_catus-cat_on_snow.jpg',\n",
    "            'https://upload.wikimedia.org/wikipedia/commons/5/5e/Domestic_Cat_Face_Shot.jpg',\n",
    "            'https://upload.wikimedia.org/wikipedia/commons/0/0c/Black_Cat_%287983739954%29.jpg']\n",
    "\n",
    "frog_urls = ['https://upload.wikimedia.org/wikipedia/commons/c/c1/Variegated_golden_frog_%28Mantella_baroni%29_Ranomafana.jpg',\n",
    "             'https://upload.wikimedia.org/wikipedia/commons/6/6e/R._imitator_Chazuta.jpg',\n",
    "             'https://upload.wikimedia.org/wikipedia/commons/5/55/Atelopus_zeteki1.jpg',             \n",
    "             'https://upload.wikimedia.org/wikipedia/commons/6/68/Wood_Frog_%28Rana_sylvatica%29_%2825234151669%29.jpg',\n",
    "             'https://upload.wikimedia.org/wikipedia/commons/4/4f/Bombina_bombina_1_%28Marek_Szczepanek%29_tight_crop.jpg',\n",
    "             'https://upload.wikimedia.org/wikipedia/commons/a/ab/Dendrobates_pumilio.jpg',\n",
    "             'https://upload.wikimedia.org/wikipedia/commons/5/5b/Bufo_periglenes2.jpg']"
   ]
  },
  {
   "cell_type": "markdown",
   "metadata": {},
   "source": [
    "### Get the directory of this jupyter notebook"
   ]
  },
  {
   "cell_type": "code",
   "execution_count": null,
   "metadata": {},
   "outputs": [],
   "source": [
    "# Credits to: \"patricksilva\" @ https://github.com/ipython/ipython/issues/10123\n",
    "if os.name == 'posix': \n",
    "    current_directory = !pwd\n",
    "elif os.name == 'nt':\n",
    "    current_directory = !echo %cd%\n",
    "\n",
    "current_directory = current_directory[0] "
   ]
  },
  {
   "cell_type": "markdown",
   "metadata": {},
   "source": [
    "### Create the source directory where the downloaded images will be saved"
   ]
  },
  {
   "cell_type": "code",
   "execution_count": null,
   "metadata": {},
   "outputs": [],
   "source": [
    "source_directory = Path(current_directory, 'uncategorized')\n",
    "Path(source_directory).mkdir(parents=True, exist_ok=True)"
   ]
  },
  {
   "cell_type": "markdown",
   "metadata": {},
   "source": [
    "### Create the destination directory where the categorized images will be copied to"
   ]
  },
  {
   "cell_type": "code",
   "execution_count": null,
   "metadata": {},
   "outputs": [],
   "source": [
    "destination_directory = Path(current_directory, 'categorized')\n",
    "Path(destination_directory).mkdir(parents=True, exist_ok=True)"
   ]
  },
  {
   "cell_type": "markdown",
   "metadata": {},
   "source": [
    "### Download the images"
   ]
  },
  {
   "cell_type": "code",
   "execution_count": null,
   "metadata": {},
   "outputs": [],
   "source": [
    "def download_file(url, directory):    \n",
    "    headers = {'User-Agent': 'CoolBot/0.0 (https://example.org/coolbot/; coolbot@example.org)'}\n",
    "    response = requests.get(url, headers=headers)\n",
    "    filename = unquote(Path(urlparse(url).path).name)    \n",
    "    filename = Path(directory, filename)  \n",
    "    \n",
    "    if response.status_code == 200:\n",
    "        with open(filename, 'wb') as file:\n",
    "            file.write(response.content)\n",
    "    else:\n",
    "        print(response.raise_for_status())"
   ]
  },
  {
   "cell_type": "code",
   "execution_count": null,
   "metadata": {},
   "outputs": [],
   "source": [
    "for url in tqdm(cat_urls + frog_urls):\n",
    "    download_file(url, source_directory)    "
   ]
  },
  {
   "cell_type": "markdown",
   "metadata": {},
   "source": [
    "### Finally, categorize the downloaded images"
   ]
  },
  {
   "cell_type": "code",
   "execution_count": null,
   "metadata": {},
   "outputs": [],
   "source": [
    "# Instead of single words, you can also define phrases that describe the content of the respective images\n",
    "labels = ['cat', 'frog']\n",
    "\n",
    "categorize_images(labels=labels, src_dir=source_directory, dest_folder=destination_directory, verbose=True)"
   ]
  }
 ],
 "metadata": {
  "kernelspec": {
   "display_name": "Python 3 (ipykernel)",
   "language": "python",
   "name": "python3"
  },
  "language_info": {
   "codemirror_mode": {
    "name": "ipython",
    "version": 3
   },
   "file_extension": ".py",
   "mimetype": "text/x-python",
   "name": "python",
   "nbconvert_exporter": "python",
   "pygments_lexer": "ipython3",
   "version": "3.9.13"
  },
  "varInspector": {
   "cols": {
    "lenName": 16,
    "lenType": 16,
    "lenVar": 40
   },
   "kernels_config": {
    "python": {
     "delete_cmd_postfix": "",
     "delete_cmd_prefix": "del ",
     "library": "var_list.py",
     "varRefreshCmd": "print(var_dic_list())"
    },
    "r": {
     "delete_cmd_postfix": ") ",
     "delete_cmd_prefix": "rm(",
     "library": "var_list.r",
     "varRefreshCmd": "cat(var_dic_list()) "
    }
   },
   "types_to_exclude": [
    "module",
    "function",
    "builtin_function_or_method",
    "instance",
    "_Feature"
   ],
   "window_display": false
  }
 },
 "nbformat": 4,
 "nbformat_minor": 2
}
